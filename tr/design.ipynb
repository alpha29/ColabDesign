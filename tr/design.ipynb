{
 "cells": [
  {
   "cell_type": "markdown",
   "metadata": {
    "colab_type": "text",
    "id": "view-in-github"
   },
   "source": [
    "<a href=\"https://colab.research.google.com/github/sokrypton/ColabDesign/blob/v1.1.1/tr/design.ipynb\" target=\"_parent\"><img src=\"https://colab.research.google.com/assets/colab-badge.svg\" alt=\"Open In Colab\"/></a>"
   ]
  },
  {
   "cell_type": "markdown",
   "metadata": {
    "id": "RW6455_OvE2E"
   },
   "source": [
    "#TrDesign in JAX!\n",
    "Backprop through TrRosetta for protein design."
   ]
  },
  {
   "cell_type": "code",
   "execution_count": null,
   "metadata": {
    "cellView": "form",
    "id": "KtRWtsKfvC1U"
   },
   "outputs": [],
   "source": [
    "#@title install\n",
    "%%bash\n",
    "if [ ! -d params/tr ]; then\n",
    "  # get code\n",
    "  pip -q install git+https://github.com/sokrypton/ColabDesign.git@v1.1.1\n",
    "\n",
    "  # for debugging\n",
    "  ln -s /usr/local/lib/python3.*/dist-packages/colabdesign colabdesign\n",
    "\n",
    "  # download params\n",
    "  mkdir -p params/tr\n",
    "  wget -qnc https://files.ipd.uw.edu/krypton/TrRosetta/models.zip -P params/tr/\n",
    "  wget -qnc https://files.ipd.uw.edu/krypton/TrRosetta/bkgr_models.zip -P params/tr/\n",
    "  unzip -qqo params/tr/models.zip -d params/tr/\n",
    "  unzip -qqo params/tr/bkgr_models.zip -d params/tr/\n",
    "  rm params/tr/models.zip \n",
    "  rm params/tr/bkgr_models.zip\n",
    "\n",
    "fi"
   ]
  },
  {
   "cell_type": "code",
   "execution_count": null,
   "metadata": {
    "cellView": "form",
    "id": "TH3kao14wKx3"
   },
   "outputs": [],
   "source": [
    "#@title import libraries\n",
    "import warnings\n",
    "warnings.simplefilter(action='ignore', category=FutureWarning)\n",
    "from colabdesign import *\n",
    "from google.colab import files\n",
    "from IPython.display import HTML\n",
    "import os\n",
    "\n",
    "def get_pdb(pdb_code=\"\"):\n",
    "  if pdb_code is None or pdb_code == \"\":\n",
    "    upload_dict = files.upload()\n",
    "    pdb_string = upload_dict[list(upload_dict.keys())[0]]\n",
    "    with open(\"tmp.pdb\",\"wb\") as out: out.write(pdb_string)\n",
    "    return \"tmp.pdb\"\n",
    "  else:\n",
    "    os.system(f\"wget -qnc https://files.rcsb.org/view/{pdb_code}.pdb\")\n",
    "    return f\"{pdb_code}.pdb\""
   ]
  },
  {
   "cell_type": "markdown",
   "metadata": {
    "id": "u7fuMeqYQXlp"
   },
   "source": [
    "#Hallucination"
   ]
  },
  {
   "cell_type": "code",
   "execution_count": null,
   "metadata": {
    "id": "yiCmwWMcQPjq"
   },
   "outputs": [],
   "source": [
    "clear_mem()\n",
    "tr_model = mk_trdesign_model(protocol=\"hallucination\")\n",
    "tr_model.prep_inputs(length=100)"
   ]
  },
  {
   "cell_type": "code",
   "execution_count": null,
   "metadata": {
    "id": "l-7wenNyQdRo"
   },
   "outputs": [],
   "source": [
    "tr_model.restart()\n",
    "tr_model.set_opt(hard=False)\n",
    "tr_model.design(50, verbose=10, save_best=False)\n",
    "tr_model.set_opt(hard=True)\n",
    "tr_model.design(50, verbose=10, save_best=True)"
   ]
  },
  {
   "cell_type": "code",
   "execution_count": null,
   "metadata": {
    "id": "oQ89tZMNQmuj"
   },
   "outputs": [],
   "source": [
    "print(tr_model.get_loss())\n",
    "print(tr_model.get_seq())\n",
    "tr_model.plot(\"preds\")"
   ]
  },
  {
   "cell_type": "markdown",
   "metadata": {
    "id": "G_jxcnyIQbA3"
   },
   "source": [
    "#fixbb"
   ]
  },
  {
   "cell_type": "code",
   "execution_count": null,
   "metadata": {
    "id": "B7mOUM2QwLzM"
   },
   "outputs": [],
   "source": [
    "clear_mem()\n",
    "tr_model = mk_trdesign_model(protocol=\"fixbb\")\n",
    "tr_model.prep_inputs(get_pdb(\"1TEN\"),chain=\"A\")"
   ]
  },
  {
   "cell_type": "code",
   "execution_count": null,
   "metadata": {
    "id": "o4PF8RiWx4Hy"
   },
   "outputs": [],
   "source": [
    "tr_model.restart()\n",
    "tr_model.set_opt(hard=False)\n",
    "tr_model.design(50, verbose=10, save_best=False)\n",
    "tr_model.set_opt(hard=True)\n",
    "tr_model.design(50, verbose=10, save_best=True)"
   ]
  },
  {
   "cell_type": "code",
   "execution_count": null,
   "metadata": {
    "id": "RWAW3WjqXb0t"
   },
   "outputs": [],
   "source": [
    "print(tr_model.get_loss())\n",
    "print(tr_model.get_seq())\n",
    "tr_model.plot(\"preds\")"
   ]
  },
  {
   "cell_type": "markdown",
   "metadata": {
    "id": "jTUi-BD6Un2E"
   },
   "source": [
    "# combine with AfDesign"
   ]
  },
  {
   "cell_type": "code",
   "execution_count": null,
   "metadata": {
    "id": "RE_kS_TIQopk"
   },
   "outputs": [],
   "source": [
    "%%bash\n",
    "if [ ! -d params/af ]; then\n",
    "  # download alphafold weights\n",
    "  mkdir -p params/af/params\n",
    "  curl -fsSL https://storage.googleapis.com/alphafold/alphafold_params_2022-03-02.tar | tar x -C params/af/params\n",
    "fi"
   ]
  },
  {
   "cell_type": "markdown",
   "metadata": {
    "id": "JPSXkb-5X97C"
   },
   "source": [
    "### initialize with trdesign sequence"
   ]
  },
  {
   "cell_type": "code",
   "execution_count": null,
   "metadata": {
    "id": "NYBL60BjXLGd"
   },
   "outputs": [],
   "source": [
    "af_model = mk_afdesign_model(protocol=\"fixbb\",data_dir=\"params/af\")\n",
    "af_model.prep_inputs(get_pdb(\"1TEN\"))"
   ]
  },
  {
   "cell_type": "code",
   "execution_count": null,
   "metadata": {
    "id": "zxHYpWpOWxZj"
   },
   "outputs": [],
   "source": [
    "af_model.restart(seq=tr_model.get_seq())\n",
    "af_model.design_3stage(100,100,10)"
   ]
  },
  {
   "cell_type": "code",
   "execution_count": null,
   "metadata": {
    "id": "3fhF7I_7btX3"
   },
   "outputs": [],
   "source": [
    "af_model.plot_traj()"
   ]
  },
  {
   "cell_type": "code",
   "execution_count": null,
   "metadata": {
    "id": "jBaroyv5WzzH"
   },
   "outputs": [],
   "source": [
    "af_model.plot_pdb()"
   ]
  },
  {
   "cell_type": "markdown",
   "metadata": {
    "id": "Cd0yN9rIZEpf"
   },
   "source": [
    "### let's try a joint optimization"
   ]
  },
  {
   "cell_type": "code",
   "execution_count": null,
   "metadata": {
    "id": "kVTsgp-oZGp3"
   },
   "outputs": [],
   "source": [
    "af_model.restart()\n",
    "af_model.design_3stage(100,100,10, callback=tr_model.af_callback())"
   ]
  },
  {
   "cell_type": "code",
   "execution_count": null,
   "metadata": {
    "id": "prBHa32UZQH-"
   },
   "outputs": [],
   "source": [
    "af_model.plot_traj()"
   ]
  },
  {
   "cell_type": "code",
   "execution_count": null,
   "metadata": {
    "id": "nDwh9G8kafJP"
   },
   "outputs": [],
   "source": [
    "af_model.plot_pdb()"
   ]
  },
  {
   "cell_type": "code",
   "execution_count": null,
   "metadata": {
    "id": "a5mzDLIMa2P5"
   },
   "outputs": [],
   "source": [
    "HTML(af_model.animate())"
   ]
  },
  {
   "cell_type": "code",
   "execution_count": null,
   "metadata": {
    "id": "5z0Vix29ahPP"
   },
   "outputs": [],
   "source": [
    "af_model.get_seqs()"
   ]
  }
 ],
 "metadata": {
  "accelerator": "GPU",
  "colab": {
   "authorship_tag": "ABX9TyNABxfrKBHb46wHlVtvkL0k",
   "include_colab_link": true,
   "name": "design.ipynb",
   "provenance": []
  },
  "gpuClass": "standard",
  "kernelspec": {
   "display_name": "Python 3",
   "name": "python3"
  },
  "language_info": {
   "name": "python"
  }
 },
 "nbformat": 4,
 "nbformat_minor": 0
}